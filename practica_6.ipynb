{
  "nbformat": 4,
  "nbformat_minor": 0,
  "metadata": {
    "colab": {
      "name": "practica-6.ipynb",
      "provenance": [],
      "authorship_tag": "ABX9TyPryILra3FKmdlV8n/pHanN",
      "include_colab_link": true
    },
    "kernelspec": {
      "name": "python3",
      "display_name": "Python 3"
    },
    "language_info": {
      "name": "python"
    }
  },
  "cells": [
    {
      "cell_type": "markdown",
      "metadata": {
        "id": "view-in-github",
        "colab_type": "text"
      },
      "source": [
        "<a href=\"https://colab.research.google.com/github/LollaGavrishko/practica-6-python/blob/main/practica_6.ipynb\" target=\"_parent\"><img src=\"https://colab.research.google.com/assets/colab-badge.svg\" alt=\"Open In Colab\"/></a>"
      ]
    },
    {
      "cell_type": "code",
      "metadata": {
        "id": "zQ3WwCtNggli"
      },
      "source": [
        "#код Python для построения простого классификатора на основе персептрона нейронной сети.\n",
        "import neurolab as nl \n",
        "import matplotlib.pyplot as plt \n",
        "input = [[0, 0], [0, 1], [1, 0], [1, 1]] \n",
        "target = [[0], [0], [0], [1]] \n",
        "\n",
        "net = nl.net.newp([[0, 1],[0, 1]], 1) \n",
        "error_progress = net.train(input, target, epochs=100, show=10, lr=0.1) \n",
        "plt.figure() \n",
        "plt.plot(error_progress) \n",
        "plt.xlabel('Number of epochs') \n",
        "plt.ylabel('Training error') \n",
        "plt.grid() \n",
        "plt.show()#видим график"
      ],
      "execution_count": null,
      "outputs": []
    },
    {
      "cell_type": "code",
      "metadata": {
        "id": "_DQlWS4i1tv6"
      },
      "source": [
        "#В этом примере мы создаем однослойную нейронную сеть, которая состоит из \n",
        "#независимых нейронов, действующих на входные данные для получения выходных \n",
        "#данных. Обратите внимание, что мы используем текстовый файл с \n",
        "#именем neural_simple.txt в качестве входных данных. \n",
        "#Импортируйте полезные пакеты\n",
        "import numpy as np \n",
        "import matplotlib.pyplot as plt \n",
        "import neurolab as nl \n",
        "input_data=np.loadtxt(“/Users/admin/neural_simple.txt') \n",
        "array([[2. , 4. , 0. , 0. ], [1.5, 3.9, 0. , 0. ],[2.2, 4.1, 0. , 0. ], [1.9, 4.7, 0. , 0. ], [5.4, 2.2, 0. , 1. ],[4.3, 7.1, 0. , 1. ],[5.8, 4.9, 0. , 1. ],[6.5, 3.2, 0. , 1. ],[3. , 2. , 1. , 0. ],[2.5, 0.5, 1. , 0. ],[3.5, 2.1, 1. , 0. ],[2.9, 0.3, 1. , 0. ],[6.5, 8.3, 1. , 1. ], [3.2, 6.2, 1. , 1. ], [4.9, 7.8, 1. , 1. ], [2.1, 4.8, 1. , 1. ]]) \n",
        "data= input_data[:,0:2] \n",
        "labels= input_data[:,2:]\n",
        "plt.figure() \n",
        "plt.scatter(data[:,0], data[:,1]) \n",
        "plt.xlabel('Dimension 1') \n",
        "plt.ylabel('Dimension 2') \n",
        "plt.title('Input data') \n",
        "dim1_min,dim1_max = data[:,0].min(), data[:,0].max() \n",
        "dim2_min,dim2_max = data[:,1].min(), data[:,1].max() \n",
        "nn_output_layer = labels.shape[1] \n",
        "dim1=[dim1_min, dim1_max] \n",
        "dim2=[dim2_min, dim2_max] \n",
        "neural_net = nl.net.newp([dim1,dim2],nn_output_layer)\n",
        "error= neural_net.train(data, labels,epochs=200, show=20,lr=0,01) \n",
        "plt.figure() \n",
        "plt.plot(error) \n",
        "plt.xlabel('Number of epochs') \n",
        "plt.ylabel('Training error') \n",
        "plt.title('Training error progress') \n",
        "plt.grid() \n",
        "plt.show() \n",
        "print('\\nTest Results:') \n",
        "data_test=[[1.5,3.2,],[3.6,5.7],[1.6,3.9]] for item in data_test: \n",
        "print(item,'-->',neural_net.sim([item])[0]) "
      ],
      "execution_count": null,
      "outputs": []
    },
    {
      "cell_type": "code",
      "metadata": {
        "id": "zmcKY2Fb2EoR"
      },
      "source": [
        "#В этом примере мы создаем многослойную #нейронную сеть, состоящую из более чем \n",
        "#одного слоя, для извлечения базовых шаблонов из #обучающих данных. Эта многослойная \n",
        "#нейронная сеть будет работать как регрессор. Мы #собираемся сгенерировать несколько \n",
        "#точек данных на основе уравнения: y = 2x2+8.\n",
        "import numpy as np \n",
        "import matplotlib.pyplot as plt \n",
        "import neurolab as nl \n",
        "\n",
        "min_val=-30 \n",
        "max_val=30 \n",
        "num_points=160 \n",
        "x = np.linspace(min_val, max_val, num_points) \n",
        "y = 2 * np.square(x) + 8 \n",
        "y /= np.linalg.norm(y) \n",
        "\n",
        "data=x.reshape(num_points,1) \n",
        "labels= y.reshape(num_points, 1) \n",
        "plt.figure() \n",
        "plt.scatter(data, labels) \n",
        "plt.xlabel('Dimension 1') \n",
        "plt.ylabel('Dimension 2') \n",
        "plt.title('Data-points') \n",
        "neural_net = nl.net.newff([[min_val, max_val]], [10, 6, 1]) \n",
        "neural_net.trainf = nl.train.train_gd \n",
        "error=neural_net.train(data,labels,epochs=700,show=100,goal=0.01) \n",
        "output= neural_net.sim(data) \n",
        "y_pred=output.reshape(num_points) \n",
        "plt.figure() \n",
        "plt.plot(error) \n",
        "plt.xlabel('Number of epochs') \n",
        "plt.ylabel('Error') \n",
        "plt.title('Training error progress') \n",
        "x_dense=np.linspace(min_val,max_val,num_points*2) \n",
        "y_dense_pred=neural_net.sim(x_dense.reshape(x_dense.size,1)).reshape(x_dense.size) \n",
        "plt.figure() \n",
        "plt.plot(x_dense, y_dense_pred, '-', x, y, '.', x, y_pred, 'p') \n",
        "plt.title('Actual vs predicted') \n",
        "plt.show()"
      ],
      "execution_count": null,
      "outputs": []
    },
    {
      "cell_type": "code",
      "metadata": {
        "id": "wEzdynxf2CJu"
      },
      "source": [
        ""
      ],
      "execution_count": null,
      "outputs": []
    }
  ]
}